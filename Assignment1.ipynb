{
  "nbformat": 4,
  "nbformat_minor": 0,
  "metadata": {
    "colab": {
      "name": "Assignment1.ipynb",
      "provenance": [],
      "authorship_tag": "ABX9TyOA/xNKAuYKggTHcpoyvo/b",
      "include_colab_link": true
    },
    "kernelspec": {
      "name": "python3",
      "display_name": "Python 3"
    },
    "language_info": {
      "name": "python"
    }
  },
  "cells": [
    {
      "cell_type": "markdown",
      "metadata": {
        "id": "view-in-github",
        "colab_type": "text"
      },
      "source": [
        "<a href=\"https://colab.research.google.com/github/hamsasriveni/2216136_ALML_BootCamp/blob/main/Assignment1.ipynb\" target=\"_parent\"><img src=\"https://colab.research.google.com/assets/colab-badge.svg\" alt=\"Open In Colab\"/></a>"
      ]
    },
    {
      "cell_type": "markdown",
      "source": [
        "1. Implement the methods of String with examples."
      ],
      "metadata": {
        "id": "-Fb4mFuC2bpd"
      }
    },
    {
      "cell_type": "code",
      "source": [
        "str='  hamsa Sriveni'\n",
        "print(str.upper())\n",
        "print(str.lower())\n",
        "print(str.swapcase())\n",
        "print(str.title())\n",
        "print(str.capitalize())\n",
        "print('no.of occurance of a:',str.count('a'))\n",
        "result=str.rstrip()\n",
        "print(result)\n",
        "result=str.lstrip()\n",
        "print(result)\n"
      ],
      "metadata": {
        "colab": {
          "base_uri": "https://localhost:8080/"
        },
        "id": "Y1dYR91c2wXa",
        "outputId": "7724a624-c213-410f-bb1d-13b11d5c9a85"
      },
      "execution_count": 6,
      "outputs": [
        {
          "output_type": "stream",
          "name": "stdout",
          "text": [
            "  HAMSA SRIVENI\n",
            "  hamsa sriveni\n",
            "  HAMSA sRIVENI\n",
            "  Hamsa Sriveni\n",
            "  hamsa sriveni\n",
            "no.of occurance of a: 2\n",
            "  hamsa Sriveni\n",
            "hamsa Sriveni\n"
          ]
        }
      ]
    },
    {
      "cell_type": "markdown",
      "source": [
        "2.Implement the methods of List with examples"
      ],
      "metadata": {
        "id": "tbHQeMPb5C3n"
      }
    },
    {
      "cell_type": "code",
      "source": [
        "list=[1,5,7,8,9]\n",
        "list.append(11)\n",
        "print(list)\n",
        "list.insert(2,3)\n",
        "print(list)\n",
        "list.extend([14,16])\n",
        "print(list)\n",
        "list.count(7)\n",
        "print(list)\n",
        "list.remove(8)\n",
        "print(list)\n",
        "list.pop(1)\n",
        "print(list)\n",
        "list.clear()\n",
        "print(list)"
      ],
      "metadata": {
        "colab": {
          "base_uri": "https://localhost:8080/"
        },
        "id": "qfm4HDxZ5NeN",
        "outputId": "f51beeaf-527f-4677-aec0-cc2e1b325929"
      },
      "execution_count": 7,
      "outputs": [
        {
          "output_type": "stream",
          "name": "stdout",
          "text": [
            "[1, 5, 7, 8, 9, 11]\n",
            "[1, 5, 3, 7, 8, 9, 11]\n",
            "[1, 5, 3, 7, 8, 9, 11, 14, 16]\n",
            "[1, 5, 3, 7, 8, 9, 11, 14, 16]\n",
            "[1, 5, 3, 7, 9, 11, 14, 16]\n",
            "[1, 3, 7, 9, 11, 14, 16]\n",
            "[]\n"
          ]
        }
      ]
    },
    {
      "cell_type": "markdown",
      "source": [
        "3. Implement the methods of Tuple with examples"
      ],
      "metadata": {
        "id": "FE_DHV2C7yYo"
      }
    },
    {
      "cell_type": "code",
      "source": [
        "t1=(2,3,4,5,6,7)\n",
        "res=t1.count(3)\n",
        "print(res)\n",
        "res=t1.index(5)\n",
        "print(res)\n",
        "print(max(t1))\n",
        "print(min(t1))\n",
        "print(len(t1))"
      ],
      "metadata": {
        "colab": {
          "base_uri": "https://localhost:8080/"
        },
        "id": "NSh3NJpH76iS",
        "outputId": "ef59072f-1604-4c94-c252-7d97ecd0fef2"
      },
      "execution_count": 9,
      "outputs": [
        {
          "output_type": "stream",
          "name": "stdout",
          "text": [
            "1\n",
            "3\n",
            "7\n",
            "2\n",
            "6\n"
          ]
        }
      ]
    },
    {
      "cell_type": "markdown",
      "source": [
        "4. Implement the methods of Dictionary with examples"
      ],
      "metadata": {
        "id": "xCoz-08H9n8G"
      }
    },
    {
      "cell_type": "code",
      "source": [
        "d1={'name':'hamsa','addr':'hnk'}\n",
        "print(d1['addr'])\n",
        "print(d1.keys())\n",
        "print(d1.values())\n",
        "print(d1.get('addr'))"
      ],
      "metadata": {
        "colab": {
          "base_uri": "https://localhost:8080/"
        },
        "id": "gVRcZqMm92VU",
        "outputId": "b1a796b8-c095-4c1b-a75b-920eca0164b8"
      },
      "execution_count": 11,
      "outputs": [
        {
          "output_type": "stream",
          "name": "stdout",
          "text": [
            "hnk\n",
            "dict_keys(['name', 'addr'])\n",
            "dict_values(['hamsa', 'hnk'])\n",
            "hnk\n"
          ]
        }
      ]
    },
    {
      "cell_type": "markdown",
      "source": [
        "5. Implement the methods of Set with examples."
      ],
      "metadata": {
        "id": "nC8Pqp5w_OiI"
      }
    },
    {
      "cell_type": "code",
      "source": [
        "s1={\"hamsa\",\"laxmi\",\"deepak\"}\n",
        "s1.add(\"harshu\")\n",
        "print(s1)\n",
        "s1.discard(\"laxmi\")\n",
        "print(s1)\n",
        "s2={\"sragvi\",\"harsha\",\"reddy\"}\n",
        "s1.update(s2)\n",
        "print(s1)\n"
      ],
      "metadata": {
        "colab": {
          "base_uri": "https://localhost:8080/"
        },
        "id": "lRipUsDh_QPU",
        "outputId": "0ef50084-e5f9-4005-8f97-83aaaa415f70"
      },
      "execution_count": 12,
      "outputs": [
        {
          "output_type": "stream",
          "name": "stdout",
          "text": [
            "{'laxmi', 'deepak', 'harshu', 'hamsa'}\n",
            "{'deepak', 'harshu', 'hamsa'}\n",
            "{'deepak', 'harsha', 'sragvi', 'reddy', 'harshu', 'hamsa'}\n"
          ]
        }
      ]
    },
    {
      "cell_type": "markdown",
      "source": [
        "6. Write a python program to convert Decimal to Binary, Octal and Hexadecimal with direct method"
      ],
      "metadata": {
        "id": "80PnX-GRA35-"
      }
    },
    {
      "cell_type": "code",
      "source": [
        "dec = 25\n",
        "print(\"The decimal value of\", dec, \"is:\")\n",
        "print(bin(dec), \"binary.\")\n",
        "print(oct(dec), \"octal.\")\n",
        "print(hex(dec), \"hexadecimal.\")"
      ],
      "metadata": {
        "colab": {
          "base_uri": "https://localhost:8080/"
        },
        "id": "PKy4BX0aDIbz",
        "outputId": "09e4e82f-d0f4-4cdd-b460-4993be5ea45b"
      },
      "execution_count": 15,
      "outputs": [
        {
          "output_type": "stream",
          "name": "stdout",
          "text": [
            "The decimal value of 25 is:\n",
            "0b11001 binary.\n",
            "0o31 octal.\n",
            "0x19 hexadecimal.\n"
          ]
        }
      ]
    },
    {
      "cell_type": "markdown",
      "source": [
        "7. Implement Arithmetic operators with examples."
      ],
      "metadata": {
        "id": "_WLj_JDyDbkr"
      }
    },
    {
      "cell_type": "code",
      "source": [
        "a=8\n",
        "b=6\n",
        "print(a+b)\n",
        "print(a-b)\n",
        "print(a*b)\n",
        "print(a/b)\n",
        "print(a//b)"
      ],
      "metadata": {
        "colab": {
          "base_uri": "https://localhost:8080/"
        },
        "id": "94awehRvDj1X",
        "outputId": "4fa548bf-d87d-4f16-e519-91d57f4acf33"
      },
      "execution_count": 17,
      "outputs": [
        {
          "output_type": "stream",
          "name": "stdout",
          "text": [
            "14\n",
            "2\n",
            "48\n",
            "1.3333333333333333\n",
            "1\n"
          ]
        }
      ]
    },
    {
      "cell_type": "markdown",
      "source": [
        "8. Implement Assignment operators with examples"
      ],
      "metadata": {
        "id": "cm9h_0IWEAik"
      }
    },
    {
      "cell_type": "code",
      "source": [
        "a=8\n",
        "b=5\n",
        "b+=a\n",
        "print(b)\n",
        "b*=a\n",
        "print(b)"
      ],
      "metadata": {
        "colab": {
          "base_uri": "https://localhost:8080/"
        },
        "id": "jDM3pkpLF77m",
        "outputId": "4ef57855-a7d0-41f0-d345-9290f7dbe333"
      },
      "execution_count": 25,
      "outputs": [
        {
          "output_type": "stream",
          "name": "stdout",
          "text": [
            "13\n",
            "104\n"
          ]
        }
      ]
    },
    {
      "cell_type": "markdown",
      "source": [
        "9. Implement Comparison operators with examples"
      ],
      "metadata": {
        "id": "EzJiUXxHGpi7"
      }
    },
    {
      "cell_type": "code",
      "source": [
        "x = 11\n",
        "y = 12\n",
        "print('x > y is',x>y)\n",
        "print('x < y is',x<y)\n",
        "print('x == y is',x==y)\n",
        "print('x != y is',x!=y)\n",
        "print('x >= y is',x>=y)\n",
        "print('x <= y is',x<=y)"
      ],
      "metadata": {
        "colab": {
          "base_uri": "https://localhost:8080/"
        },
        "id": "UogP0lAEGqht",
        "outputId": "11ea4cae-8d2a-4fb8-c57f-7df28092f1ef"
      },
      "execution_count": 29,
      "outputs": [
        {
          "output_type": "stream",
          "name": "stdout",
          "text": [
            "x > y is False\n",
            "x < y is True\n",
            "x == y is False\n",
            "x != y is True\n",
            "x >= y is False\n",
            "x <= y is True\n"
          ]
        }
      ]
    },
    {
      "cell_type": "markdown",
      "source": [
        "10. Implement Logical operators with examples."
      ],
      "metadata": {
        "id": "SZa-yP7aHQoJ"
      }
    },
    {
      "cell_type": "code",
      "source": [
        "x = True\n",
        "y = False\n",
        "print('x and y is',x and y)\n",
        "print('x or y is',x or y)\n",
        "print('not x is',not x)"
      ],
      "metadata": {
        "colab": {
          "base_uri": "https://localhost:8080/"
        },
        "id": "dD_pPwoHHRhe",
        "outputId": "c1d3497b-7fb7-4c49-843a-e14644cbe591"
      },
      "execution_count": 30,
      "outputs": [
        {
          "output_type": "stream",
          "name": "stdout",
          "text": [
            "x and y is False\n",
            "x or y is True\n",
            "not x is False\n"
          ]
        }
      ]
    },
    {
      "cell_type": "markdown",
      "source": [
        "11. Implement Bitwise operators with examples"
      ],
      "metadata": {
        "id": "A3ewuV7WHqVM"
      }
    },
    {
      "cell_type": "code",
      "source": [
        "a=12\n",
        "b=13\n",
        "print(a&b)\n",
        "print(a^b)\n",
        "print(a|b)\n",
        "print(~a)\n",
        "print(a>>2)\n",
        "print(a<<3)\n",
        "print(~b)\n",
        "print(b>>2)\n",
        "print(b<<3)"
      ],
      "metadata": {
        "colab": {
          "base_uri": "https://localhost:8080/"
        },
        "id": "BIEngP7zHrOQ",
        "outputId": "dd5c5c24-819e-487b-9841-5f2d74a2adf3"
      },
      "execution_count": 31,
      "outputs": [
        {
          "output_type": "stream",
          "name": "stdout",
          "text": [
            "12\n",
            "1\n",
            "13\n",
            "-13\n",
            "3\n",
            "96\n",
            "-14\n",
            "3\n",
            "104\n"
          ]
        }
      ]
    },
    {
      "cell_type": "markdown",
      "source": [
        "12. Implement Membership operators with examples."
      ],
      "metadata": {
        "id": "6B6sU0ahKMwp"
      }
    },
    {
      "cell_type": "code",
      "source": [
        "x = 'Hello world'\n",
        "y = {1:'a',2:'b'}\n",
        "print('H' in x)\n",
        "print('hello' not in x)\n",
        "print(1 in y)\n",
        "print('a' in y)"
      ],
      "metadata": {
        "colab": {
          "base_uri": "https://localhost:8080/"
        },
        "id": "6GPvdP6zKTCn",
        "outputId": "51f7d630-eb12-4677-8ad0-3d62f43ab070"
      },
      "execution_count": 32,
      "outputs": [
        {
          "output_type": "stream",
          "name": "stdout",
          "text": [
            "True\n",
            "True\n",
            "True\n",
            "False\n"
          ]
        }
      ]
    },
    {
      "cell_type": "markdown",
      "source": [
        "13. Implement Identity operators with examples\n"
      ],
      "metadata": {
        "id": "bHf9qOXQKtoO"
      }
    },
    {
      "cell_type": "code",
      "source": [
        "x1 = 5\n",
        "y1 = 5\n",
        "x2 = 'Hello'\n",
        "y2 = 'Hello'\n",
        "x3 = [1,2,3]\n",
        "y3 = [1,2,3]\n",
        "print(x1 is not y1)\n",
        "print(x2 is y2)\n",
        "print(x3 is y3)"
      ],
      "metadata": {
        "colab": {
          "base_uri": "https://localhost:8080/"
        },
        "id": "gls8F73eKuti",
        "outputId": "c85587ed-97b8-442c-c8b0-597e28ea15ce"
      },
      "execution_count": 33,
      "outputs": [
        {
          "output_type": "stream",
          "name": "stdout",
          "text": [
            "False\n",
            "True\n",
            "False\n"
          ]
        }
      ]
    },
    {
      "cell_type": "markdown",
      "source": [
        "14. Demonstrate Negative indexing for List and apply slicing."
      ],
      "metadata": {
        "id": "7zsseWh2LJv3"
      }
    },
    {
      "cell_type": "code",
      "source": [
        "list = [1,6,8,3,5,2,4]\n",
        "K = 3\n",
        "res = ~list[::-1].index(K)\n",
        "print(\"The required Negative index :\",res)"
      ],
      "metadata": {
        "colab": {
          "base_uri": "https://localhost:8080/"
        },
        "id": "FvoUg_gvNRai",
        "outputId": "2cd652ab-0c1c-4cd5-d594-ae15761d52f6"
      },
      "execution_count": 37,
      "outputs": [
        {
          "output_type": "stream",
          "name": "stdout",
          "text": [
            "The required Negative index : -4\n"
          ]
        }
      ]
    },
    {
      "cell_type": "markdown",
      "source": [
        "Predict the output for the given code snippet and justify the result"
      ],
      "metadata": {
        "id": "OT_vfPhpNqdK"
      }
    },
    {
      "cell_type": "code",
      "source": [
        "print('A series of characters designed as one object known as a string'[::-1][4::3])\n",
        "print(\"--------------\")\n",
        "print('Welcome to python training program'[3:10][::-1])"
      ],
      "metadata": {
        "colab": {
          "base_uri": "https://localhost:8080/"
        },
        "id": "OeXmNEI9Pghr",
        "outputId": "a0e0daee-75b1-430e-8bed-c4a3d9b58a79"
      },
      "execution_count": 39,
      "outputs": [
        {
          "output_type": "stream",
          "name": "stdout",
          "text": [
            "taawkcbe  ns eahfsr \n",
            "--------------\n",
            "ot emoc\n"
          ]
        }
      ]
    },
    {
      "cell_type": "markdown",
      "source": [
        "16.Write a python code to get desired output"
      ],
      "metadata": {
        "id": "__XnUEZLPjiM"
      }
    },
    {
      "cell_type": "code",
      "source": [
        "p_phrase=\"was it a car or a cat I saw\"\n",
        "print(p_phrase[::-1])\n",
        "print(p_phrase.upper())"
      ],
      "metadata": {
        "colab": {
          "base_uri": "https://localhost:8080/"
        },
        "id": "G4H9IXbmPq7I",
        "outputId": "bd0694d7-8d6f-4d2a-8d87-36e5df8c8fc0"
      },
      "execution_count": 38,
      "outputs": [
        {
          "output_type": "stream",
          "name": "stdout",
          "text": [
            "was I tac a ro rac a ti saw\n",
            "WAS IT A CAR OR A CAT I SAW\n"
          ]
        }
      ]
    },
    {
      "cell_type": "markdown",
      "source": [
        "17. You are required to generate a word similar to ZOO, X and Y that denote the number\n",
        "of Zs and Os respectively. The generated word similar to ZOO where Y= 2 * X.\n",
        " Input X= 2 Output ZZOOOO\n",
        " Input X= 5 Output ZZZZZOOOOOOOOOO\n"
      ],
      "metadata": {
        "id": "157pQkiaRLrd"
      }
    },
    {
      "cell_type": "code",
      "source": [
        "\n",
        "\n"
      ],
      "metadata": {
        "id": "BE5_hQMIROah"
      },
      "execution_count": null,
      "outputs": []
    }
  ]
}