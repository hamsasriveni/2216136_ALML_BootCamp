{
  "nbformat": 4,
  "nbformat_minor": 0,
  "metadata": {
    "colab": {
      "name": "Assignment2.ipynb",
      "provenance": [],
      "authorship_tag": "ABX9TyMJlOB0h1uolAa6l8nmQPqy",
      "include_colab_link": true
    },
    "kernelspec": {
      "name": "python3",
      "display_name": "Python 3"
    },
    "language_info": {
      "name": "python"
    }
  },
  "cells": [
    {
      "cell_type": "markdown",
      "metadata": {
        "id": "view-in-github",
        "colab_type": "text"
      },
      "source": [
        "<a href=\"https://colab.research.google.com/github/hamsasriveni/2216136_ALML_BootCamp/blob/main/Assignment2.ipynb\" target=\"_parent\"><img src=\"https://colab.research.google.com/assets/colab-badge.svg\" alt=\"Open In Colab\"/></a>"
      ]
    },
    {
      "cell_type": "code",
      "execution_count": 2,
      "metadata": {
        "colab": {
          "base_uri": "https://localhost:8080/"
        },
        "id": "XEd_v8wU_JJh",
        "outputId": "b7495d12-1efe-4a49-f1ae-7555ce206460"
      },
      "outputs": [
        {
          "output_type": "stream",
          "name": "stdout",
          "text": [
            "true\n",
            "150\n",
            "\n",
            "\n"
          ]
        }
      ],
      "source": [
        "#IF STATEMENT\n",
        "var=150\n",
        "if var>0:\n",
        "  print(\"true\")\n",
        "  print(var)\n",
        "\n",
        "print(\"\\n\")\n",
        "var1=0\n",
        "if var1>0:\n",
        "  print(\"true\")\n",
        "  print(var1)"
      ]
    },
    {
      "cell_type": "code",
      "source": [
        "#if...else statement\n",
        "var2=-1\n",
        "if var2>0:\n",
        "  print(\"True\")\n",
        "  print(var2)\n",
        "else:\n",
        "  print(\"False\")\n",
        "  print(var2)"
      ],
      "metadata": {
        "colab": {
          "base_uri": "https://localhost:8080/"
        },
        "id": "COrPyT1L_gyS",
        "outputId": "120899ab-d617-4ce0-db3b-8ed14cce3c4c"
      },
      "execution_count": 3,
      "outputs": [
        {
          "output_type": "stream",
          "name": "stdout",
          "text": [
            "False\n",
            "-1\n"
          ]
        }
      ]
    },
    {
      "cell_type": "code",
      "source": [
        "#NESTED IF\n",
        "print(\"NESTED IF\")\n",
        "print(\"BUS TICKET\")\n",
        "age=int(input(\"enter age: \"))\n",
        "if age>12 and age<=18:\n",
        "  if age<15:\n",
        "    print(\"Quarter ticket\")\n",
        "  elif age==15:\n",
        "    print(\"Quarter ticket+discount\")\n",
        "  else:\n",
        "    print(\"Half ticket\")\n",
        "elif age>=19 and age<=60:\n",
        "  print(\"Full Ticket\")\n",
        "elif age>60:\n",
        "  print(\"Full Ticket + discount\")\n",
        "else:\n",
        "  print(\"no ticket\")"
      ],
      "metadata": {
        "colab": {
          "base_uri": "https://localhost:8080/"
        },
        "id": "JVrYtaa6_uQ6",
        "outputId": "193a047e-f146-4aca-9abd-268f2414e56b"
      },
      "execution_count": 5,
      "outputs": [
        {
          "output_type": "stream",
          "name": "stdout",
          "text": [
            "NESTED IF\n",
            "BUS TICKET\n",
            "enter age: 61\n",
            "Full Ticket + discount\n"
          ]
        }
      ]
    },
    {
      "cell_type": "code",
      "source": [
        "#LOOPS\n",
        "print(\"LOOPS\")\n",
        "print(\"FOR LOOP\")\n",
        "n=[6,5,9,21,29,34,25,32]\n",
        "sum=0\n",
        "for val in n:\n",
        "  sum=sum+val\n",
        "print(\"the sun is:\",sum)\n",
        "\n",
        "print(\"\\n\")\n",
        "for i in range(1,11):\n",
        "  print(i)\n",
        "\n",
        "print(\"\\n\")\n",
        "for i in range(1,11,2):\n",
        "  print(i)\n",
        "\n",
        "print(\"\\n\")\n",
        "x=[2,3,4,5,6,7,8,9]\n",
        "y=[]\n",
        "for a in x:\n",
        "  if a%2==0:\n",
        "    y.append(a)\n",
        "print(y)\n",
        "\n",
        "print(\"\\n\")\n",
        "#USING IF STATEMENTS\n",
        "print(\"USING IF STATEMENTS\")\n",
        "d=[0,1,5,7]\n",
        "for i in d:\n",
        "  print(i)\n",
        "else:\n",
        "  print(\"no items\")\n",
        "print(\"\\n\")\n",
        "\n",
        "for l in \"python\":\n",
        "  print(\"current letter is: \",l)\n",
        "\n",
        "print(\"\\n\")\n",
        "#ITERATION BY SEQ INDEXING\n",
        "print(\"ITERATION BY SEQ INDEXING\")\n",
        "fruit=['apple','banana','orange']\n",
        "for index in range(len(fruit)):\n",
        "  print('current fruit is: ',fruit[index])"
      ],
      "metadata": {
        "colab": {
          "base_uri": "https://localhost:8080/"
        },
        "id": "wL_13NZy_5pT",
        "outputId": "3fadc2cf-8d2b-43fa-bc16-2a727817bcd0"
      },
      "execution_count": 6,
      "outputs": [
        {
          "output_type": "stream",
          "name": "stdout",
          "text": [
            "LOOPS\n",
            "FOR LOOP\n",
            "the sun is: 161\n",
            "\n",
            "\n",
            "1\n",
            "2\n",
            "3\n",
            "4\n",
            "5\n",
            "6\n",
            "7\n",
            "8\n",
            "9\n",
            "10\n",
            "\n",
            "\n",
            "1\n",
            "3\n",
            "5\n",
            "7\n",
            "9\n",
            "\n",
            "\n",
            "[2, 4, 6, 8]\n",
            "\n",
            "\n",
            "USING IF STATEMENTS\n",
            "0\n",
            "1\n",
            "5\n",
            "7\n",
            "no items\n",
            "\n",
            "\n",
            "current letter is:  p\n",
            "current letter is:  y\n",
            "current letter is:  t\n",
            "current letter is:  h\n",
            "current letter is:  o\n",
            "current letter is:  n\n",
            "\n",
            "\n",
            "ITERATION BY SEQ INDEXING\n",
            "current fruit is:  apple\n",
            "current fruit is:  banana\n",
            "current fruit is:  orange\n"
          ]
        }
      ]
    },
    {
      "cell_type": "code",
      "source": [
        "#while\n",
        "count=0\n",
        "while(count<10):\n",
        "  print('the count is',count)\n",
        "  count=count+1\n",
        "count=0\n",
        "while(count<5):\n",
        "  print(count,\"is less than 5\")\n",
        "  count=count+1\n",
        "else:\n",
        "  print(count,\"is not less than 5\")"
      ],
      "metadata": {
        "colab": {
          "base_uri": "https://localhost:8080/"
        },
        "id": "hOcVPp0vAkqH",
        "outputId": "eb71b8b7-46ca-4235-d7ad-3de9e3885053"
      },
      "execution_count": 7,
      "outputs": [
        {
          "output_type": "stream",
          "name": "stdout",
          "text": [
            "the count is 0\n",
            "the count is 1\n",
            "the count is 2\n",
            "the count is 3\n",
            "the count is 4\n",
            "the count is 5\n",
            "the count is 6\n",
            "the count is 7\n",
            "the count is 8\n",
            "the count is 9\n",
            "0 is less than 5\n",
            "1 is less than 5\n",
            "2 is less than 5\n",
            "3 is less than 5\n",
            "4 is less than 5\n",
            "5 is not less than 5\n"
          ]
        }
      ]
    },
    {
      "cell_type": "code",
      "source": [
        "#NESTED LOOPS\n",
        "print(\"NESTED LOOPS\")\n",
        "print(\"MATRIX ADD\")\n",
        "x=[[1,2,3],\n",
        "   [4,5,6],\n",
        "   [7,8,9]]\n",
        "\n",
        "y=[[2,5,6],[2,4,8],[3,6,9]]\n",
        "\n",
        "res=[[0,0,0],[0,0,0],[0,0,0]]\n",
        "for i in range(len(x)):\n",
        "  for j in range(len(x[0])):\n",
        "    res[i][j]=x[i][j]+y[i][j]\n",
        "for r in res:\n",
        "    print(r)\n",
        "\n",
        "print(\"\\n\")\n",
        "print(\"MATRIX MUL\")\n",
        "x=[[1,2,3],\n",
        "   [4,5,6],\n",
        "   [7,8,9]]\n",
        "\n",
        "y=[[2,4,6],[2,5,8],[3,6,9]]\n",
        "\n",
        "res=[[0,0,0],[0,0,0],[0,0,0]]\n",
        "for i in range(len(x)):\n",
        "  for j in range(len(x[0])):\n",
        "    res[i][j]=x[i][j]*y[i][j]\n",
        "  for r in res:\n",
        "    print(r)"
      ],
      "metadata": {
        "colab": {
          "base_uri": "https://localhost:8080/"
        },
        "id": "8doRM-peA2cm",
        "outputId": "5b4634c2-e368-4081-db5f-fb53a23a5745"
      },
      "execution_count": 8,
      "outputs": [
        {
          "output_type": "stream",
          "name": "stdout",
          "text": [
            "NESTED LOOPS\n",
            "MATRIX ADD\n",
            "[3, 7, 9]\n",
            "[6, 9, 14]\n",
            "[10, 14, 18]\n",
            "\n",
            "\n",
            "MATRIX MUL\n",
            "[2, 8, 18]\n",
            "[0, 0, 0]\n",
            "[0, 0, 0]\n",
            "[2, 8, 18]\n",
            "[8, 25, 48]\n",
            "[0, 0, 0]\n",
            "[2, 8, 18]\n",
            "[8, 25, 48]\n",
            "[21, 48, 81]\n"
          ]
        }
      ]
    },
    {
      "cell_type": "code",
      "source": [
        "num=int(input(\"ENTER LAST VALUE TO GET TABLESS: \"))\n",
        "i=1\n",
        "while(i<=num):\n",
        "  print(f\"Table {i}\")#rawstring\n",
        "  j=1\n",
        "  while(j<=10):\n",
        "    print(f\"{i}*{j}={i*j}\")\n",
        "    j=j+1\n",
        "  print(\"-----\")\n",
        "  i=i+1"
      ],
      "metadata": {
        "colab": {
          "base_uri": "https://localhost:8080/"
        },
        "id": "8bxoe1V6BCLW",
        "outputId": "0860a415-2dfd-4462-96b6-1fc125afc875"
      },
      "execution_count": 9,
      "outputs": [
        {
          "output_type": "stream",
          "name": "stdout",
          "text": [
            "ENTER LAST VALUE TO GET TABLESS: 9\n",
            "Table 1\n",
            "1*1=1\n",
            "1*2=2\n",
            "1*3=3\n",
            "1*4=4\n",
            "1*5=5\n",
            "1*6=6\n",
            "1*7=7\n",
            "1*8=8\n",
            "1*9=9\n",
            "1*10=10\n",
            "-----\n",
            "Table 2\n",
            "2*1=2\n",
            "2*2=4\n",
            "2*3=6\n",
            "2*4=8\n",
            "2*5=10\n",
            "2*6=12\n",
            "2*7=14\n",
            "2*8=16\n",
            "2*9=18\n",
            "2*10=20\n",
            "-----\n",
            "Table 3\n",
            "3*1=3\n",
            "3*2=6\n",
            "3*3=9\n",
            "3*4=12\n",
            "3*5=15\n",
            "3*6=18\n",
            "3*7=21\n",
            "3*8=24\n",
            "3*9=27\n",
            "3*10=30\n",
            "-----\n",
            "Table 4\n",
            "4*1=4\n",
            "4*2=8\n",
            "4*3=12\n",
            "4*4=16\n",
            "4*5=20\n",
            "4*6=24\n",
            "4*7=28\n",
            "4*8=32\n",
            "4*9=36\n",
            "4*10=40\n",
            "-----\n",
            "Table 5\n",
            "5*1=5\n",
            "5*2=10\n",
            "5*3=15\n",
            "5*4=20\n",
            "5*5=25\n",
            "5*6=30\n",
            "5*7=35\n",
            "5*8=40\n",
            "5*9=45\n",
            "5*10=50\n",
            "-----\n",
            "Table 6\n",
            "6*1=6\n",
            "6*2=12\n",
            "6*3=18\n",
            "6*4=24\n",
            "6*5=30\n",
            "6*6=36\n",
            "6*7=42\n",
            "6*8=48\n",
            "6*9=54\n",
            "6*10=60\n",
            "-----\n",
            "Table 7\n",
            "7*1=7\n",
            "7*2=14\n",
            "7*3=21\n",
            "7*4=28\n",
            "7*5=35\n",
            "7*6=42\n",
            "7*7=49\n",
            "7*8=56\n",
            "7*9=63\n",
            "7*10=70\n",
            "-----\n",
            "Table 8\n",
            "8*1=8\n",
            "8*2=16\n",
            "8*3=24\n",
            "8*4=32\n",
            "8*5=40\n",
            "8*6=48\n",
            "8*7=56\n",
            "8*8=64\n",
            "8*9=72\n",
            "8*10=80\n",
            "-----\n",
            "Table 9\n",
            "9*1=9\n",
            "9*2=18\n",
            "9*3=27\n",
            "9*4=36\n",
            "9*5=45\n",
            "9*6=54\n",
            "9*7=63\n",
            "9*8=72\n",
            "9*9=81\n",
            "9*10=90\n",
            "-----\n"
          ]
        }
      ]
    },
    {
      "cell_type": "code",
      "source": [
        "#LOOP CONTROL STATEMENTS\n",
        "print(\"loop comtrol statement\")\n",
        "print(\"BREAK\")\n",
        "for l in 'python':\n",
        "  if l =='h':\n",
        "    break\n",
        "  print(l)\n",
        "\n",
        "int1=10\n",
        "while(int1>0):\n",
        "  print(int1)\n",
        "  int1=int1-1\n",
        "  if int1==5:\n",
        "    break\n",
        "\n",
        "#continue\n",
        "print(\"\\n\")\n",
        "print(\"CONTINUE\") \n",
        "for l in 'python':\n",
        " if l =='h':\n",
        "   continue\n",
        " print(l)\n",
        "\n",
        "int1=10\n",
        "while(int1>0):\n",
        "  print(int1)\n",
        "  int1=int1-1\n",
        "  if int1==5:\n",
        "    continue\n",
        "\n",
        "#PASS\n",
        "print(\"\\n\")\n",
        "print(\"PASS\")\n",
        "for l in 'python':\n",
        " if l =='h':\n",
        "   pass\n",
        " print(l)\n",
        "\n",
        "int1=10\n",
        "while(int1>0):\n",
        "  print(int1)\n",
        "  int1=int1-1\n",
        "  if int1==5:\n",
        "    pass"
      ],
      "metadata": {
        "colab": {
          "base_uri": "https://localhost:8080/"
        },
        "id": "Q5yPOtl8BTJZ",
        "outputId": "b68017c0-67a2-4570-aa16-b5a226dd0411"
      },
      "execution_count": 10,
      "outputs": [
        {
          "output_type": "stream",
          "name": "stdout",
          "text": [
            "loop comtrol statement\n",
            "BREAK\n",
            "p\n",
            "y\n",
            "t\n",
            "10\n",
            "9\n",
            "8\n",
            "7\n",
            "6\n",
            "\n",
            "\n",
            "CONTINUE\n",
            "p\n",
            "y\n",
            "t\n",
            "o\n",
            "n\n",
            "10\n",
            "9\n",
            "8\n",
            "7\n",
            "6\n",
            "5\n",
            "4\n",
            "3\n",
            "2\n",
            "1\n",
            "\n",
            "\n",
            "PASS\n",
            "p\n",
            "y\n",
            "t\n",
            "h\n",
            "o\n",
            "n\n",
            "10\n",
            "9\n",
            "8\n",
            "7\n",
            "6\n",
            "5\n",
            "4\n",
            "3\n",
            "2\n",
            "1\n"
          ]
        }
      ]
    },
    {
      "cell_type": "code",
      "source": [
        "str1=input(\"enter a string: \")\n",
        "str2=str1[::-1]\n",
        "if(str1==str2):\n",
        "  print(\"Palindrome\")\n",
        "else:\n",
        "  print(\"not a palindrome\")"
      ],
      "metadata": {
        "colab": {
          "base_uri": "https://localhost:8080/"
        },
        "id": "81UTJjDCBkRq",
        "outputId": "06542dae-2640-4fa8-ca82-8d075a4ff3e3"
      },
      "execution_count": 11,
      "outputs": [
        {
          "output_type": "stream",
          "name": "stdout",
          "text": [
            "enter a string: 12\n",
            "not a palindrome\n"
          ]
        }
      ]
    },
    {
      "cell_type": "code",
      "source": [
        "for i in range(1,101):\n",
        "  str2=str(i)\n",
        "  if (str2==str2[::-1]):\n",
        "    print(\"yes the palindrome number is: \",i)"
      ],
      "metadata": {
        "colab": {
          "base_uri": "https://localhost:8080/"
        },
        "id": "Oalp0KJ_BuYm",
        "outputId": "367fb8a6-b729-45c7-afc7-59bf8ab254a7"
      },
      "execution_count": 12,
      "outputs": [
        {
          "output_type": "stream",
          "name": "stdout",
          "text": [
            "yes the palindrome number is:  1\n",
            "yes the palindrome number is:  2\n",
            "yes the palindrome number is:  3\n",
            "yes the palindrome number is:  4\n",
            "yes the palindrome number is:  5\n",
            "yes the palindrome number is:  6\n",
            "yes the palindrome number is:  7\n",
            "yes the palindrome number is:  8\n",
            "yes the palindrome number is:  9\n",
            "yes the palindrome number is:  11\n",
            "yes the palindrome number is:  22\n",
            "yes the palindrome number is:  33\n",
            "yes the palindrome number is:  44\n",
            "yes the palindrome number is:  55\n",
            "yes the palindrome number is:  66\n",
            "yes the palindrome number is:  77\n",
            "yes the palindrome number is:  88\n",
            "yes the palindrome number is:  99\n"
          ]
        }
      ]
    },
    {
      "cell_type": "code",
      "source": [
        "#EVEN ODD LISTS\n",
        "a=[1,2,3,4,5,6,7,8,9,10,11,12,13,14,15]\n",
        "b=[]\n",
        "c=[]\n",
        "for i in a:\n",
        "  if(i%2==0):\n",
        "    b.append(i) \n",
        "  else:\n",
        "    c.append(i)\n",
        "print(c)\n",
        "print(b)"
      ],
      "metadata": {
        "colab": {
          "base_uri": "https://localhost:8080/"
        },
        "id": "sSgWUkupB0Rr",
        "outputId": "5435b35f-4d6a-43c4-b547-79e21d80585c"
      },
      "execution_count": 13,
      "outputs": [
        {
          "output_type": "stream",
          "name": "stdout",
          "text": [
            "[1, 3, 5, 7, 9, 11, 13, 15]\n",
            "[2, 4, 6, 8, 10, 12, 14]\n"
          ]
        }
      ]
    },
    {
      "cell_type": "code",
      "source": [
        "Countries_list=['Finland','Germany','Sweden','Ireland','Turkey']\n",
        "l=[]\n",
        "for i in Countries_list:\n",
        "  if(\"and\" in i):\n",
        "    l.append(i)\n",
        "print(l)"
      ],
      "metadata": {
        "colab": {
          "base_uri": "https://localhost:8080/"
        },
        "id": "oO7SMQysB8XW",
        "outputId": "01c1182e-e546-4aa0-cffa-038466883130"
      },
      "execution_count": 14,
      "outputs": [
        {
          "output_type": "stream",
          "name": "stdout",
          "text": [
            "['Finland', 'Ireland']\n"
          ]
        }
      ]
    },
    {
      "cell_type": "markdown",
      "source": [
        "Write a python program that print respective grades of student: Grade – Outstanding for marks>=90\n",
        "\n",
        "Grade A+ for marks >=80, <90\n",
        "\n",
        "Grade A for marks >=70, <80\n",
        "\n",
        "Grade B for marks >=60 and <70\n",
        "\n",
        "<60 Grade C"
      ],
      "metadata": {
        "id": "bMGrNgPzCIs9"
      }
    },
    {
      "cell_type": "code",
      "source": [
        "m=int(input(\"enter marks: \"))\n",
        "if m>=90:\n",
        "  print(\"outstanding\")\n",
        "elif m>=80 and m<90:\n",
        "  print(\"A+\")\n",
        "elif m>=70 and m<80:\n",
        "  print(\"A\")\n",
        "elif m>=60 and m<70:\n",
        "  print(\"B\")\n",
        "else:\n",
        "  print(\"C\")"
      ],
      "metadata": {
        "colab": {
          "base_uri": "https://localhost:8080/"
        },
        "id": "XyCv85hfCJ1Y",
        "outputId": "067373d8-8b79-4a47-e7fe-b68579c05c9e"
      },
      "execution_count": 15,
      "outputs": [
        {
          "output_type": "stream",
          "name": "stdout",
          "text": [
            "enter marks: 50\n",
            "C\n"
          ]
        }
      ]
    },
    {
      "cell_type": "markdown",
      "source": [
        "Create a list with name state list with 5 elements State_list = [“Delhi”,”Telangana”,”Goa”,”AP”,”Kerala”]\n",
        "\n",
        "Write a python program that extract first and last characters of each item and print in desired format.\n",
        "\n",
        "Input: [“Delhi”,”Telangana”,”Goa”,”AP”,”Kerala”]\n",
        "\n",
        "Output: dItAgAaOkA"
      ],
      "metadata": {
        "id": "Paye7OQPCZu1"
      }
    },
    {
      "cell_type": "code",
      "source": [
        "s=[\"deepak\",\"hamsa\",\"harshu\",\"sragvi\"]\n",
        "l=[]\n",
        "for i in s:\n",
        "  l.append(i[0])\n",
        "  l.append(i[len(i)-1])\n",
        "print(l)\n",
        "dtr=\"\".join(l)\n",
        "#print(dtr)\n",
        "str1=dtr.swapcase()\n",
        "print(str1)"
      ],
      "metadata": {
        "colab": {
          "base_uri": "https://localhost:8080/"
        },
        "id": "LZRXAuPTCanV",
        "outputId": "a20dc431-0b5f-42eb-a697-0eee4898e5fe"
      },
      "execution_count": 16,
      "outputs": [
        {
          "output_type": "stream",
          "name": "stdout",
          "text": [
            "['d', 'k', 'h', 'a', 'h', 'u', 's', 'i']\n",
            "DKHAHUSI\n"
          ]
        }
      ]
    },
    {
      "cell_type": "code",
      "source": [
        "s=[\"Goa\",\"Telangana\",\"AP\",\"Kerala\",\"Delhi\"]\n",
        "str=\"\"\n",
        "for i in s:\n",
        "  str+=i[0].lower()+i[-1].upper()\n",
        "print(str)"
      ],
      "metadata": {
        "colab": {
          "base_uri": "https://localhost:8080/"
        },
        "id": "9sUUK93OCyCV",
        "outputId": "fc65874b-31d7-4372-9621-f81a9ab51e22"
      },
      "execution_count": 17,
      "outputs": [
        {
          "output_type": "stream",
          "name": "stdout",
          "text": [
            "gAtAaPkAdI\n"
          ]
        }
      ]
    },
    {
      "cell_type": "code",
      "source": [
        "#USER DEFINED FUTN\n",
        "print(\"USER DEFINED FUTN\")\n",
        "def greet(name):\n",
        "  '''this futn greets a person'''\n",
        "  print(\"Hello,\"+name+\"Good morning\")\n",
        "greet(\"deepuu\")"
      ],
      "metadata": {
        "colab": {
          "base_uri": "https://localhost:8080/"
        },
        "id": "wRPMDHVVDEd4",
        "outputId": "5702b293-16af-414a-c68f-fa66a5ba203e"
      },
      "execution_count": 18,
      "outputs": [
        {
          "output_type": "stream",
          "name": "stdout",
          "text": [
            "USER DEFINED FUTN\n",
            "Hello,deepuuGood morning\n"
          ]
        }
      ]
    },
    {
      "cell_type": "code",
      "source": [
        "#default\n",
        "def A(a,b=1,c=2):\n",
        "  return a+b+c\n",
        "print(A(0))\n",
        "print(A(3))\n",
        "print(A(4,4,4))"
      ],
      "metadata": {
        "colab": {
          "base_uri": "https://localhost:8080/"
        },
        "id": "wtIikQ3LDMtU",
        "outputId": "8da8654a-5b56-4da4-e560-112d1343a230"
      },
      "execution_count": 19,
      "outputs": [
        {
          "output_type": "stream",
          "name": "stdout",
          "text": [
            "3\n",
            "6\n",
            "12\n"
          ]
        }
      ]
    },
    {
      "cell_type": "code",
      "source": [
        "#KEYWORDS\n",
        "print(\"KEYWORDS\")\n",
        "def A(a,b=1,c=2):\n",
        "  return a+b+c\n",
        "print(A(a=2,b=3))\n",
        "print(A(c=3,a=1))"
      ],
      "metadata": {
        "colab": {
          "base_uri": "https://localhost:8080/"
        },
        "id": "YxaNyI0GDRZn",
        "outputId": "62a1358e-ba9c-4801-bde4-76cd19ad42b1"
      },
      "execution_count": 20,
      "outputs": [
        {
          "output_type": "stream",
          "name": "stdout",
          "text": [
            "KEYWORDS\n",
            "7\n",
            "5\n"
          ]
        }
      ]
    },
    {
      "cell_type": "code",
      "source": [
        "#positional\n",
        "def add(a,b,c):\n",
        "  return a+b+c\n",
        "print(add(10,20,30))\n",
        "print(add(10,b=20,c=30))"
      ],
      "metadata": {
        "colab": {
          "base_uri": "https://localhost:8080/"
        },
        "id": "xAYDStBfDbOn",
        "outputId": "b2e82558-1c0e-4f24-e68c-35f47f405064"
      },
      "execution_count": 21,
      "outputs": [
        {
          "output_type": "stream",
          "name": "stdout",
          "text": [
            "60\n",
            "60\n"
          ]
        }
      ]
    },
    {
      "cell_type": "code",
      "source": [
        "#arbitrary keyword\n",
        "def key_arg(**kwargs):\n",
        "  return kwargs\n",
        "my_dict=key_arg(Apples=10,Oranges=20,Grapes=30)\n",
        "print(my_dict['Apples'])\n",
        "print(my_dict)"
      ],
      "metadata": {
        "colab": {
          "base_uri": "https://localhost:8080/"
        },
        "id": "FgjP4_3LDfsl",
        "outputId": "15edf57b-65d5-4831-f24d-a935173a18ea"
      },
      "execution_count": 22,
      "outputs": [
        {
          "output_type": "stream",
          "name": "stdout",
          "text": [
            "10\n",
            "{'Apples': 10, 'Oranges': 20, 'Grapes': 30}\n"
          ]
        }
      ]
    },
    {
      "cell_type": "code",
      "source": [
        "#arbitrary positional\n",
        "def add_num(*n):\n",
        "  print(n)\n",
        "  print(sum(n))\n",
        "  add_num(5,11)"
      ],
      "metadata": {
        "id": "86ZYWONdDrAr"
      },
      "execution_count": null,
      "outputs": []
    },
    {
      "cell_type": "code",
      "source": [
        "#higher order functions\n",
        "def shout(text):\n",
        "  return text.upper()\n",
        "def whisper(text):\n",
        "  return text.lower()\n",
        "def explain(func):\n",
        "  greet=func(\"Hi, i am higher order function\")\n",
        "  print(greet)\n",
        "explain(shout)\n",
        "explain(whisper)"
      ],
      "metadata": {
        "colab": {
          "base_uri": "https://localhost:8080/"
        },
        "id": "O6sgM8rtDr8z",
        "outputId": "48cd2be8-2d59-45ef-905d-df511d3ed844"
      },
      "execution_count": 23,
      "outputs": [
        {
          "output_type": "stream",
          "name": "stdout",
          "text": [
            "HI, I AM HIGHER ORDER FUNCTION\n",
            "hi, i am higher order function\n"
          ]
        }
      ]
    },
    {
      "cell_type": "code",
      "source": [
        "#LAMBDA \n",
        "def inc(x):\n",
        "  x=x+1\n",
        "  return x\n",
        "print(inc(8))\n",
        "\n",
        "print((lambda x:x+1)(8))\n",
        "\n",
        "res=lambda x:x+1\n",
        "print(res(8))"
      ],
      "metadata": {
        "colab": {
          "base_uri": "https://localhost:8080/"
        },
        "id": "hL_sQebODzcv",
        "outputId": "bc98879c-cf8d-429e-faa7-c86e90e3d3a0"
      },
      "execution_count": 24,
      "outputs": [
        {
          "output_type": "stream",
          "name": "stdout",
          "text": [
            "9\n",
            "9\n",
            "9\n"
          ]
        }
      ]
    },
    {
      "cell_type": "code",
      "source": [
        "print((lambda x,y:x**y)(2,2))\n",
        "print((lambda x,y:x+y)(2,2))\n",
        "print((lambda x,y:x-y)(2,2))"
      ],
      "metadata": {
        "colab": {
          "base_uri": "https://localhost:8080/"
        },
        "id": "qY1wstlxD3H7",
        "outputId": "d45408a9-b101-4334-ca5f-128bb1c2efc8"
      },
      "execution_count": 25,
      "outputs": [
        {
          "output_type": "stream",
          "name": "stdout",
          "text": [
            "4\n",
            "4\n",
            "0\n"
          ]
        }
      ]
    },
    {
      "cell_type": "code",
      "source": [
        "#MAPPINGG\n",
        "l=[1,2,3,4,5]\n",
        "#res=lambda x:x+2\n",
        "#print(res(l))"
      ],
      "metadata": {
        "id": "mf9ODq0gD83A"
      },
      "execution_count": 27,
      "outputs": []
    },
    {
      "cell_type": "code",
      "source": [
        "l=[1,2,3,4,5,6,7]\n",
        "def inc(num):\n",
        "  return num+2\n",
        "res=list(map(inc,l))\n",
        "print(res)\n",
        "\n",
        "\n",
        "res=list(map(lambda x:x+2,l))\n",
        "print(res)"
      ],
      "metadata": {
        "colab": {
          "base_uri": "https://localhost:8080/"
        },
        "id": "NPvR_WQREDdA",
        "outputId": "04d81c21-4b20-4ce0-f213-361d5db21485"
      },
      "execution_count": 28,
      "outputs": [
        {
          "output_type": "stream",
          "name": "stdout",
          "text": [
            "[3, 4, 5, 6, 7, 8, 9]\n",
            "[3, 4, 5, 6, 7, 8, 9]\n"
          ]
        }
      ]
    },
    {
      "cell_type": "code",
      "source": [
        "from typing_extensions import OrderedDict\n",
        "#EVEN OR ODD\n",
        "def eo(num):\n",
        "  if num%2==0:\n",
        "    return \"even\"\n",
        "  else:\n",
        "    return \"odd\"\n",
        "\n",
        "eo(2)\n",
        "\n",
        "\n",
        "l=[2,5,4,6,9,8,5,1]\n",
        "list(map(eo,l))"
      ],
      "metadata": {
        "colab": {
          "base_uri": "https://localhost:8080/"
        },
        "id": "ISVBTFMmEKiI",
        "outputId": "868a1680-6e27-42fa-ea96-01d1610523d9"
      },
      "execution_count": 29,
      "outputs": [
        {
          "output_type": "execute_result",
          "data": {
            "text/plain": [
              "['even', 'odd', 'even', 'even', 'odd', 'even', 'odd', 'odd']"
            ]
          },
          "metadata": {},
          "execution_count": 29
        }
      ]
    },
    {
      "cell_type": "code",
      "source": [
        "l=['apples','banana','grapes']\n",
        "r=list(map(lambda x:x.capitalize(),l))\n",
        "print(r)"
      ],
      "metadata": {
        "colab": {
          "base_uri": "https://localhost:8080/"
        },
        "id": "nfbw-TrJEQTj",
        "outputId": "ef3ca2a9-1e52-4173-aa8e-4adef6779e54"
      },
      "execution_count": 30,
      "outputs": [
        {
          "output_type": "stream",
          "name": "stdout",
          "text": [
            "['Apples', 'Banana', 'Grapes']\n"
          ]
        }
      ]
    },
    {
      "cell_type": "code",
      "source": [
        "#FILTER\n",
        "def odd(n):\n",
        "  if n%2!=0:\n",
        "    return n\n",
        "my_list=[2,5,9,6,4,7,3]\n",
        "print(list(filter(odd,my_list)))\n",
        "\n",
        "l=[15,25,6,3,96,4,8]\n",
        "temp=list(filter(lambda x:x%2==0,l))\n",
        "print(temp)"
      ],
      "metadata": {
        "colab": {
          "base_uri": "https://localhost:8080/"
        },
        "id": "KJ2UWNgBEW7K",
        "outputId": "d00fac34-cd32-4a4e-f4d8-7a811f6cfc64"
      },
      "execution_count": 31,
      "outputs": [
        {
          "output_type": "stream",
          "name": "stdout",
          "text": [
            "[5, 9, 7, 3]\n",
            "[6, 96, 4, 8]\n"
          ]
        }
      ]
    },
    {
      "cell_type": "code",
      "source": [
        "#MODULES\n",
        "import os \n",
        "os.mkdir(\"hi\")\n",
        "os.chdir(\"hi\")\n",
        "os.getcwd()\n",
        "os.listdir()\n",
        "os.rmdir(\"/content/hi\")"
      ],
      "metadata": {
        "id": "SHfZMtrkEivT"
      },
      "execution_count": 32,
      "outputs": []
    },
    {
      "cell_type": "code",
      "source": [
        "#MATH MODULE\n",
        "import math as m\n",
        "print(m.pi)\n",
        "print(m.e)\n",
        "print(m.sqrt(4))\n",
        "print(m.pow(2,2))\n",
        "print(m.floor(1.4))\n",
        "print(m.tan(1))\n",
        "print(m.log(4))"
      ],
      "metadata": {
        "colab": {
          "base_uri": "https://localhost:8080/"
        },
        "id": "1ejZMULwEq1S",
        "outputId": "da5836ad-6790-4ec5-fbfc-fe1dd2b4bff4"
      },
      "execution_count": 33,
      "outputs": [
        {
          "output_type": "stream",
          "name": "stdout",
          "text": [
            "3.141592653589793\n",
            "2.718281828459045\n",
            "2.0\n",
            "4.0\n",
            "1\n",
            "1.5574077246549023\n",
            "1.3862943611198906\n"
          ]
        }
      ]
    },
    {
      "cell_type": "code",
      "source": [
        "#SYS MODULE\n",
        "import sys\n",
        "print(sys.path)\n",
        "print(sys.version)"
      ],
      "metadata": {
        "colab": {
          "base_uri": "https://localhost:8080/"
        },
        "id": "12x_RaQUEvN5",
        "outputId": "256f2f8f-d5e0-4a52-b745-de65a26d605e"
      },
      "execution_count": 34,
      "outputs": [
        {
          "output_type": "stream",
          "name": "stdout",
          "text": [
            "['', '/content', '/env/python', '/usr/lib/python37.zip', '/usr/lib/python3.7', '/usr/lib/python3.7/lib-dynload', '/usr/local/lib/python3.7/dist-packages', '/usr/lib/python3/dist-packages', '/usr/local/lib/python3.7/dist-packages/IPython/extensions', '/root/.ipython']\n",
            "3.7.13 (default, Apr 24 2022, 01:04:09) \n",
            "[GCC 7.5.0]\n"
          ]
        }
      ]
    },
    {
      "cell_type": "code",
      "source": [
        "#STATISTICS MODULE\n",
        "import statistics as st\n",
        "print(st.mean([21,29,34]))\n",
        "print(st.median([21,29,34]))"
      ],
      "metadata": {
        "colab": {
          "base_uri": "https://localhost:8080/"
        },
        "id": "A9UsKjE-FVCv",
        "outputId": "b0b728ca-89a6-4e7d-80f3-704a9bcfb7bc"
      },
      "execution_count": 35,
      "outputs": [
        {
          "output_type": "stream",
          "name": "stdout",
          "text": [
            "28\n",
            "29\n"
          ]
        }
      ]
    },
    {
      "cell_type": "code",
      "source": [
        "#TIME MODULE\n",
        "import time\n",
        "print(time.time())\n",
        "print(time.localtime())"
      ],
      "metadata": {
        "colab": {
          "base_uri": "https://localhost:8080/"
        },
        "id": "xnZLqBmvFgbV",
        "outputId": "0ba847a0-b1ad-4e1a-9a76-3b110a148c7b"
      },
      "execution_count": 37,
      "outputs": [
        {
          "output_type": "stream",
          "name": "stdout",
          "text": [
            "1655224798.6256707\n",
            "time.struct_time(tm_year=2022, tm_mon=6, tm_mday=14, tm_hour=16, tm_min=39, tm_sec=58, tm_wday=1, tm_yday=165, tm_isdst=0)\n"
          ]
        }
      ]
    },
    {
      "cell_type": "code",
      "source": [
        "#RANDOM MODULE\n",
        "import random\n",
        "print(random.randrange(1,50))\n",
        "print(random.randint(1,100))\n",
        "print(random.random())"
      ],
      "metadata": {
        "colab": {
          "base_uri": "https://localhost:8080/"
        },
        "id": "H70frIfCFkZz",
        "outputId": "ecdc7e77-04f1-420e-fbf1-c46498e21823"
      },
      "execution_count": 38,
      "outputs": [
        {
          "output_type": "stream",
          "name": "stdout",
          "text": [
            "25\n",
            "83\n",
            "0.4668339997376487\n"
          ]
        }
      ]
    },
    {
      "cell_type": "code",
      "source": [
        "import random\n",
        "gn=random.randint(0,5)\n",
        "g1=int(input(\"enter\"))\n",
        "if g1==gn:\n",
        "  print(\"won\")\n",
        "else:\n",
        "    print(\"lost\")"
      ],
      "metadata": {
        "colab": {
          "base_uri": "https://localhost:8080/"
        },
        "id": "o8cgUsjcFrZE",
        "outputId": "3acbdcb6-5207-4d86-b0fe-551609211361"
      },
      "execution_count": 39,
      "outputs": [
        {
          "output_type": "stream",
          "name": "stdout",
          "text": [
            "enter50\n",
            "lost\n"
          ]
        }
      ]
    },
    {
      "cell_type": "markdown",
      "source": [
        "Write a python program that remove items that are multiples of 5 from list: li=[1,2,5,6,7,10,15,25,65,78,90]\n",
        "\n",
        "o/p: [1,2,6,7,78]"
      ],
      "metadata": {
        "id": "9QIbef3pFx6T"
      }
    },
    {
      "cell_type": "code",
      "source": [
        "li=[1,2,5,6,7,10,15,25,65,78,90]\n",
        "l2=[]\n",
        "for i in li:\n",
        "   if i%5!=0:\n",
        "      l2.append(i)\n",
        "print(l2)"
      ],
      "metadata": {
        "colab": {
          "base_uri": "https://localhost:8080/"
        },
        "id": "_z8sMZ1kFy_o",
        "outputId": "22cdcc5b-72e9-465e-943b-a6631887a791"
      },
      "execution_count": 40,
      "outputs": [
        {
          "output_type": "stream",
          "name": "stdout",
          "text": [
            "[1, 2, 6, 7, 78]\n"
          ]
        }
      ]
    },
    {
      "cell_type": "code",
      "source": [
        "li=[1,2,5,6,7,10,15,25,65,78,90]\n",
        "for i in li[:]:\n",
        "  if i%5==0:\n",
        "    li.remove(i)\n",
        "print(li)"
      ],
      "metadata": {
        "colab": {
          "base_uri": "https://localhost:8080/"
        },
        "id": "-L6RInRWF5JQ",
        "outputId": "e6cf1d57-13a9-4cac-a123-92229d588c94"
      },
      "execution_count": 41,
      "outputs": [
        {
          "output_type": "stream",
          "name": "stdout",
          "text": [
            "[1, 2, 6, 7, 78]\n"
          ]
        }
      ]
    },
    {
      "cell_type": "markdown",
      "source": [
        "Write a python program that generates desired output from fruits list. Filter out the fruits names that don’t start with ‘A’\n",
        "\n",
        "Fruit=[“Apple”,”Banana”,”Pear”,”Avacado”,”Orange”,”Amla”]\n",
        "\n",
        "Output: [“Apple”,”Avacado”,”Amla”]"
      ],
      "metadata": {
        "id": "geSewB1xGCL9"
      }
    },
    {
      "cell_type": "code",
      "source": [
        "Fruit=[\"Apple\",\"Banana\",\"Pear\",\"Avacado\",\"Orange\",\"Amla\"]\n",
        "l=[]\n",
        "for i in Fruit:\n",
        "  if i.startswith('A'):\n",
        "    l.append(i)\n",
        "print(l)"
      ],
      "metadata": {
        "colab": {
          "base_uri": "https://localhost:8080/"
        },
        "id": "hcve04MLGDDN",
        "outputId": "f4b448de-0c46-4ae5-a4b3-c9d8880ab6f7"
      },
      "execution_count": 42,
      "outputs": [
        {
          "output_type": "stream",
          "name": "stdout",
          "text": [
            "['Apple', 'Avacado', 'Amla']\n"
          ]
        }
      ]
    },
    {
      "cell_type": "code",
      "source": [
        "Fruit=[\"Apple\",\"Banana\",\"Pear\",\"Avacado\",\"Orange\",\"Amla\"]\n",
        "t=list(filter(lambda x:x[0]=='A',Fruit))\n",
        "print(t)"
      ],
      "metadata": {
        "colab": {
          "base_uri": "https://localhost:8080/"
        },
        "id": "2e6V41pEGJBS",
        "outputId": "98720716-a986-4fca-e3a4-316831b4f1ec"
      },
      "execution_count": 43,
      "outputs": [
        {
          "output_type": "stream",
          "name": "stdout",
          "text": [
            "['Apple', 'Avacado', 'Amla']\n"
          ]
        }
      ]
    },
    {
      "cell_type": "markdown",
      "source": [
        ""
      ],
      "metadata": {
        "id": "b1HrLsAbGOKM"
      }
    },
    {
      "cell_type": "markdown",
      "source": [
        "Mssg=”Welcome to gradstellar bootcamp” X=”number of occurrences of ‘o’ in mssg”\n",
        "\n",
        "Y=”number of occurrences of ‘e’ in mssg”\n",
        "\n",
        "Compute (X+Y)2"
      ],
      "metadata": {
        "id": "8XG0OSRrGOQi"
      }
    },
    {
      "cell_type": "code",
      "source": [
        "Mssg=\"Welcome to gradstellar bootcamp\"\n",
        "x=Mssg.count('o')\n",
        "y=Mssg.count('e')\n",
        "print(x,y)\n",
        "print((x+y)**2)"
      ],
      "metadata": {
        "colab": {
          "base_uri": "https://localhost:8080/"
        },
        "id": "XRg2ziXeGPBS",
        "outputId": "35a4d8d5-7758-4496-c60a-9b0554faa2df"
      },
      "execution_count": 44,
      "outputs": [
        {
          "output_type": "stream",
          "name": "stdout",
          "text": [
            "4 3\n",
            "49\n"
          ]
        }
      ]
    },
    {
      "cell_type": "markdown",
      "source": [
        "Write python program that filters a list by removing the elements that not start with vowel. I/P: [‘apple’,’orange’,’grapes’,’ball’,’bat’,’umbrella’]\n",
        "\n",
        "O/P: [‘apple’,’orange’,’umbrella’]"
      ],
      "metadata": {
        "id": "Ia61MRJKGWTe"
      }
    },
    {
      "cell_type": "code",
      "source": [
        "li=[\"apple\",\"orange\",\"grapes\",\"ball\",\"bat\",\"umbrella\"]\n",
        "t=list(filter(lambda x:x[0] in 'AEIOUaeiou',li))\n",
        "print(t)"
      ],
      "metadata": {
        "colab": {
          "base_uri": "https://localhost:8080/"
        },
        "id": "LZGGQ_6TGXM6",
        "outputId": "7ec152a2-d4c8-4a96-da47-010355720120"
      },
      "execution_count": 45,
      "outputs": [
        {
          "output_type": "stream",
          "name": "stdout",
          "text": [
            "['apple', 'orange', 'umbrella']\n"
          ]
        }
      ]
    },
    {
      "cell_type": "markdown",
      "source": [
        "Write a python program that displays unique element in a given list using function Li=[56,78,32,45,45,45,19,20]\n",
        "\n",
        "O/P: [56,78,32,45,19,20]"
      ],
      "metadata": {
        "id": "2QR59ottGd_8"
      }
    },
    {
      "cell_type": "code",
      "source": [
        "Li=[56,78,32,45,45,45,19,20]\n",
        "print(set(Li))"
      ],
      "metadata": {
        "colab": {
          "base_uri": "https://localhost:8080/"
        },
        "id": "Z3V0PciFGe8I",
        "outputId": "7f429645-d0fc-49f0-ce74-ff45e0eee0fa"
      },
      "execution_count": 46,
      "outputs": [
        {
          "output_type": "stream",
          "name": "stdout",
          "text": [
            "{32, 45, 78, 19, 20, 56}\n"
          ]
        }
      ]
    }
  ]
}